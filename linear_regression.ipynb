{
 "cells": [
  {
   "cell_type": "code",
   "execution_count": 1,
   "id": "f84537b6-1588-48c8-89ed-d03bf0189049",
   "metadata": {},
   "outputs": [],
   "source": [
    "import numpy as np\n",
    "import pandas as pd\n",
    "from sklearn import preprocessing\n",
    "from sklearn.metrics import mean_squared_error\n",
    "from sklearn.linear_model import LinearRegression as Linreg\n",
    "from sklearn.model_selection import train_test_split"
   ]
  },
  {
   "cell_type": "code",
   "execution_count": 2,
   "id": "0bbcf961-6fb0-40fc-9311-e0062af04a66",
   "metadata": {},
   "outputs": [],
   "source": [
    "column_names = [\"sex\", \"length\", \"height\", \"whole_weight\", \"viscera_weight\", \"shell_weight\", \"rings\"];\n",
    "df = pd.read_csv('input/abalone.data', names=column_names, header=None)\n",
    "X = df[column_names[:-1]]\n",
    "y = df[\"rings\"]\n",
    "X_train, X_temp, y_train, y_temp = train_test_split(X, y, test_size=0.2, random_state=42);\n",
    "X_test, X_val, y_test, y_val = train_test_split(X_temp, y_temp, test_size=0.75, random_state=42)\n",
    "training_data = pd.concat([X_train, y_train], axis=1)\n",
    "training_data.to_csv('training/training_data.csv', index=False)\n",
    "validation_data = pd.concat([X_val, y_val], axis=1)\n",
    "validation_data.to_csv('training/validation_data.csv', index=False)\n",
    "testing_data = pd.concat([X_test, y_test], axis=1)\n",
    "testing_data.to_csv('training/testing_data.csv', index=False)"
   ]
  },
  {
   "cell_type": "code",
   "execution_count": 3,
   "id": "284fd9f3-553a-43ab-a8c8-4234caab9bb1",
   "metadata": {},
   "outputs": [],
   "source": [
    "model = Linreg()\n",
    "train_data = pd.read_csv('training/training_data.csv')\n",
    "X_train = train_data.drop(columns=['rings'])\n",
    "y_train = train_data['rings']\n",
    "X_train_encoded = pd.get_dummies(X_train, columns=[\"sex\"], drop_first=True)\n",
    "model.fit(X_train_encoded, y_train)\n",
    "y_train_pred = model.predict(X_train_encoded)\n",
    "\n",
    "val_data = pd.read_csv('training/validation_data.csv')\n",
    "X_val = val_data.drop(columns=['rings'])\n",
    "y_val = val_data['rings']\n",
    "X_val_encoded = pd.get_dummies(X_val, columns=[\"sex\"], drop_first=True)\n",
    "model.fit(X_val_encoded, y_val)\n",
    "y_val_pred = model.predict(X_val_encoded)\n",
    "\n",
    "test_data = pd.read_csv('training/testing_data.csv')\n",
    "X_test = test_data.drop(columns=['rings'])\n",
    "y_test = test_data['rings']\n",
    "X_test_encoded = pd.get_dummies(X_test, columns=[\"sex\"], drop_first=True)\n",
    "model.fit(X_test_encoded, y_test)\n",
    "y_test_pred = model.predict(X_test_encoded)"
   ]
  }
 ],
 "metadata": {
  "kernelspec": {
   "display_name": "anaconda-panel-2023.05-py310",
   "language": "python",
   "name": "conda-env-anaconda-panel-2023.05-py310-py"
  },
  "language_info": {
   "codemirror_mode": {
    "name": "ipython",
    "version": 3
   },
   "file_extension": ".py",
   "mimetype": "text/x-python",
   "name": "python",
   "nbconvert_exporter": "python",
   "pygments_lexer": "ipython3",
   "version": "3.11.5"
  }
 },
 "nbformat": 4,
 "nbformat_minor": 5
}
